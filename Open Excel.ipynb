{
 "cells": [
  {
   "cell_type": "code",
   "execution_count": 1,
   "id": "5fdf5d31-bd07-49b1-bc7b-803f8ed5ec17",
   "metadata": {},
   "outputs": [],
   "source": [
    "import time, os\n",
    "from selenium.webdriver import Remote\n",
    "from selenium.webdriver.common.action_chains import ActionChains\n",
    "from selenium.webdriver.common.by import By\n",
    "from selenium.webdriver.common.keys import Keys"
   ]
  },
  {
   "cell_type": "code",
   "execution_count": 2,
   "id": "f8c5a49b-973e-4982-bc81-80ef2b6d6f50",
   "metadata": {},
   "outputs": [],
   "source": [
    "os.startfile(\"Winium.Desktop.Driver.exe\")"
   ]
  },
  {
   "cell_type": "markdown",
   "id": "7be2b799-094c-4f90-8416-eba0b4cd959e",
   "metadata": {},
   "source": [
    "# Open Excel"
   ]
  },
  {
   "cell_type": "code",
   "execution_count": 38,
   "id": "944014a5-0ce1-44b7-9da3-6a15a6e602ff",
   "metadata": {},
   "outputs": [],
   "source": [
    "capabilities = {\n",
    "        \"debugConnectToRunningApp\": 'false',\n",
    "        \"app\": r\"C:\\Program Files (x86)\\Microsoft Office\\root\\Office16\\EXCEL.EXE\", }"
   ]
  },
  {
   "cell_type": "code",
   "execution_count": 39,
   "id": "679da6a4-8d49-4ceb-81f9-f7aabf881966",
   "metadata": {},
   "outputs": [],
   "source": [
    "driver = Remote(command_executor='http://localhost:9999', desired_capabilities=capabilities)"
   ]
  },
  {
   "cell_type": "markdown",
   "id": "427d83ef-adb9-4efc-8606-64abe945fdf3",
   "metadata": {},
   "source": [
    "# Create new workbook"
   ]
  },
  {
   "cell_type": "code",
   "execution_count": 40,
   "id": "03e50fc1-cbf8-4a13-b392-9530734fe41e",
   "metadata": {},
   "outputs": [],
   "source": [
    "blank_workbook_link = driver.find_element_by_name('Blank workbook')\n",
    "time.sleep(2)\n",
    "actionChains = ActionChains(driver)\n",
    "actionChains.double_click(blank_workbook_link).perform()"
   ]
  },
  {
   "cell_type": "markdown",
   "id": "02364831-41bd-4484-91e2-b8f5fe0212f7",
   "metadata": {},
   "source": [
    "# Enter text into workbook"
   ]
  },
  {
   "cell_type": "code",
   "execution_count": 41,
   "id": "c8224dd3-1084-4b54-a4ca-2c08b15ced12",
   "metadata": {},
   "outputs": [],
   "source": [
    "time.sleep(1)\n",
    "driver.find_element(By.NAME, 'A1').click()\n",
    "driver.find_element(By.NAME, 'A1').send_keys(\"Hello World\")\n",
    "time.sleep(1)\n",
    "driver.find_element(By.NAME, 'A12').send_keys(\"Text for Line 12\")\n",
    "time.sleep(1)\n",
    "driver.find_element(By.NAME, 'H6').send_keys(\"Text for H6\")"
   ]
  },
  {
   "cell_type": "markdown",
   "id": "391b836a-0662-4517-a004-4ed9f83a471c",
   "metadata": {},
   "source": [
    "# Save and Close Excel "
   ]
  },
  {
   "cell_type": "code",
   "execution_count": 43,
   "id": "ed93e5a2-c6e9-4a55-9c83-d05310edceea",
   "metadata": {},
   "outputs": [],
   "source": [
    "file_link = driver.find_element_by_name('File Tab')\n",
    "actionChains = ActionChains(driver)\n",
    "actionChains.double_click(file_link).perform()"
   ]
  },
  {
   "cell_type": "code",
   "execution_count": 44,
   "id": "c68ac9ce-20e8-4cfd-9c17-37ec76e2b76e",
   "metadata": {},
   "outputs": [],
   "source": [
    "save_link = driver.find_element_by_name('Save As').click()\n",
    "actionChains = ActionChains(driver)\n",
    "actionChains.double_click(save_link).perform()"
   ]
  },
  {
   "cell_type": "code",
   "execution_count": 45,
   "id": "db707908-8e86-4640-a1eb-33392427feca",
   "metadata": {},
   "outputs": [],
   "source": [
    "browse_link = driver.find_element_by_name('Browse')\n",
    "actionChains = ActionChains(driver)\n",
    "actionChains.double_click(browse_link).perform()"
   ]
  },
  {
   "cell_type": "markdown",
   "id": "ee6853d7-809c-4766-ae96-e4bfa85da786",
   "metadata": {},
   "source": [
    "Save with custom file name."
   ]
  },
  {
   "cell_type": "code",
   "execution_count": 46,
   "id": "aad8b206-b158-4461-8a62-c348a3af7b7d",
   "metadata": {},
   "outputs": [],
   "source": [
    "file_name_link = driver.find_element_by_id('FileNameControlHost')\n",
    "file_name_link.click() \n",
    "time.sleep(1)\n",
    "file_name_link.send_keys('custom_file_name')"
   ]
  },
  {
   "cell_type": "markdown",
   "id": "29045abb-5d78-4ebd-8000-6a1403ba764d",
   "metadata": {},
   "source": [
    "Save"
   ]
  },
  {
   "cell_type": "code",
   "execution_count": 51,
   "id": "78feb370-0a19-42f9-9082-e225f6454f23",
   "metadata": {},
   "outputs": [],
   "source": [
    "save_file_link = driver.find_element_by_id(\"1\")\n",
    "time.sleep(2)\n",
    "actionChains = ActionChains(driver)\n",
    "actionChains.double_click(save_file_link).perform()"
   ]
  },
  {
   "cell_type": "code",
   "execution_count": 196,
   "id": "788ab451-afbd-4bbb-9cfc-435e7b26a8f5",
   "metadata": {},
   "outputs": [],
   "source": [
    "driver.close()"
   ]
  },
  {
   "cell_type": "markdown",
   "id": "b4de95ac-4055-4a7b-8cba-22fe23fd85d1",
   "metadata": {},
   "source": [
    "# Close Driver"
   ]
  },
  {
   "cell_type": "code",
   "execution_count": 197,
   "id": "16406f67-4bb4-46ed-b7ce-5baa0024ffef",
   "metadata": {},
   "outputs": [
    {
     "data": {
      "text/plain": [
       "0"
      ]
     },
     "execution_count": 197,
     "metadata": {},
     "output_type": "execute_result"
    }
   ],
   "source": [
    "os.system(\"TASKKILL /F /IM Winium.Desktop.Driver.exe\")"
   ]
  },
  {
   "cell_type": "code",
   "execution_count": null,
   "id": "ed82500b-ee5d-4be9-b8cb-e9962af41f7b",
   "metadata": {},
   "outputs": [],
   "source": []
  },
  {
   "cell_type": "code",
   "execution_count": null,
   "id": "d88fc81d-9ace-49ad-8d70-fb04e615c7c7",
   "metadata": {},
   "outputs": [],
   "source": []
  }
 ],
 "metadata": {
  "kernelspec": {
   "display_name": "Python 3 (ipykernel)",
   "language": "python",
   "name": "python3"
  },
  "language_info": {
   "codemirror_mode": {
    "name": "ipython",
    "version": 3
   },
   "file_extension": ".py",
   "mimetype": "text/x-python",
   "name": "python",
   "nbconvert_exporter": "python",
   "pygments_lexer": "ipython3",
   "version": "3.11.5"
  }
 },
 "nbformat": 4,
 "nbformat_minor": 5
}
