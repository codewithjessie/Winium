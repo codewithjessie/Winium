{
 "cells": [
  {
   "cell_type": "code",
   "execution_count": 1,
   "id": "26b56032-7120-4920-9edd-35e2319d8799",
   "metadata": {},
   "outputs": [],
   "source": [
    "import time, os\n",
    "from selenium.webdriver import Remote"
   ]
  },
  {
   "cell_type": "code",
   "execution_count": 2,
   "id": "469cec05-ca26-4321-99aa-573b7c21e03c",
   "metadata": {},
   "outputs": [],
   "source": [
    "os.startfile(\"Winium.Desktop.Driver.exe\")"
   ]
  },
  {
   "cell_type": "code",
   "execution_count": 3,
   "id": "7e3f0720-1061-40ae-894c-767de2748134",
   "metadata": {},
   "outputs": [],
   "source": [
    "capabilities = {\n",
    "        \"debugConnectToRunningApp\": 'false',\n",
    "        \"app\": r\"C:\\Windows\\System32\\calc.exe\", }"
   ]
  },
  {
   "cell_type": "code",
   "execution_count": 5,
   "id": "fea4ec85-4dcb-4a4e-996e-55d0b786f058",
   "metadata": {},
   "outputs": [],
   "source": [
    "driver = Remote(command_executor='http://localhost:9999', desired_capabilities=capabilities)"
   ]
  },
  {
   "cell_type": "code",
   "execution_count": 6,
   "id": "cc255ab7-1012-4268-89d4-0462cf3450be",
   "metadata": {},
   "outputs": [
    {
     "name": "stdout",
     "output_type": "stream",
     "text": [
      "Sleep Over\n",
      "Writing...successful\n"
     ]
    }
   ],
   "source": [
    "time.sleep(5)\n",
    "print(\"Sleep Over\")\n",
    "try:\n",
    "    for i in range(10):\n",
    "        driver.find_element_by_id(f\"num{i}Button\").click()\n",
    "    print(\"Writing...successful\")\n",
    "except Exception as e:\n",
    "    print(f\"Exception : {e}\")\n"
   ]
  },
  {
   "cell_type": "code",
   "execution_count": 19,
   "id": "f0202905-7cda-4d8a-94e4-4da5e274481c",
   "metadata": {},
   "outputs": [
    {
     "data": {
      "text/plain": [
       "0"
      ]
     },
     "execution_count": 19,
     "metadata": {},
     "output_type": "execute_result"
    }
   ],
   "source": [
    "os.system(\"TASKKILL /F /IM Winium.Desktop.Driver.exe\")"
   ]
  },
  {
   "cell_type": "code",
   "execution_count": null,
   "id": "2e547de7-6ad1-4e06-a94b-616a83bec2fb",
   "metadata": {},
   "outputs": [],
   "source": []
  }
 ],
 "metadata": {
  "kernelspec": {
   "display_name": "Python 3 (ipykernel)",
   "language": "python",
   "name": "python3"
  },
  "language_info": {
   "codemirror_mode": {
    "name": "ipython",
    "version": 3
   },
   "file_extension": ".py",
   "mimetype": "text/x-python",
   "name": "python",
   "nbconvert_exporter": "python",
   "pygments_lexer": "ipython3",
   "version": "3.11.5"
  }
 },
 "nbformat": 4,
 "nbformat_minor": 5
}
